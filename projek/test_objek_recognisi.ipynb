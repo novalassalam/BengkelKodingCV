{
 "cells": [
  {
   "cell_type": "code",
   "execution_count": null,
   "id": "83b7f52a",
   "metadata": {
    "ExecuteTime": {
     "start_time": "2023-03-25T08:09:02.049Z"
    }
   },
   "outputs": [
    {
     "name": "stdout",
     "output_type": "stream",
     "text": [
      "no video\n"
     ]
    }
   ],
   "source": [
    "import cv2\n",
    "import os\n",
    "import os.path\n",
    "import numpy as np\n",
    "from time import sleep\n",
    "import pickle\n",
    "\n",
    "#load best model\n",
    "def read_model(filename, path=\"\"):\n",
    "    with open(os.path.join(path, filename), 'rb') as in_name:\n",
    "        model = pickle.load(in_name)\n",
    "        return model\n",
    "\n",
    "\n",
    "car_cascade = cv2.CascadeClassifier('cars.xml') #haarcascade fitur mobil\n",
    "font = cv2.QT_FONT_NORMAL\n",
    "color = (255, 0, 0)\n",
    "\n",
    "\n",
    "cap = cv2.VideoCapture('single.mp4')\n",
    "height = 700\n",
    "width = 500\n",
    "\n",
    "pos_line_vertikal= 400 #Posisi garis deteksi\n",
    "pos_line_horizontal = 300\n",
    "offset = 50\n",
    "model = read_model(\"model_mobil.pkl\", path=\"\") #load model\n",
    "while True:\n",
    "    ret , frame1 = cap.read()\n",
    "    if ret:\n",
    "        frame1 = cv2.resize(frame1, (height,width), interpolation = cv2.INTER_AREA)#wajib sama dengan citra inputan trainer\n",
    "        cars = car_cascade.detectMultiScale(frame1,  minNeighbors=10) \n",
    "\n",
    "        for (x, y, w, h) in cars:\n",
    "            cv2.rectangle(frame1, (x, y), (x + w, y + h), (255, 0, 0), (2)) #kotakan deteksi\n",
    "            roi_color = frame1[y:y + h, x:x + w]\n",
    "            convert = cv2.cvtColor(roi_color, cv2.COLOR_BGR2HSV) #konversi bgr to hsv\n",
    "\n",
    "            muka = cv2.GaussianBlur(convert,(5,5),0)\n",
    "            muka = cv2.resize(muka, (200,200), interpolation = cv2.INTER_AREA)#wajib sama dengan citra inputan trainer\n",
    "            l=[muka.flatten()] #wajib di flatten\n",
    "                    # #model == model weight algoritma terbaik yg diload\n",
    "            id_= int(model.predict(l)[0]) #prediksi\n",
    "            print(y, pos_line_vertikal+offset)\n",
    "\n",
    "            if(id_==1):\n",
    "                has = 'mobil'\n",
    "            else: \n",
    "                has = 'bukan'\n",
    "\n",
    "            cv2.imshow(\"Detect\",muka)\n",
    "            cv2.putText(frame1, \"Deteksi : \"+has, (20, 30), cv2.FONT_HERSHEY_SIMPLEX, 1, (0, 0, 255),2)\n",
    "            cv2.imshow(\"Video Original\" , frame1)\n",
    "    else:\n",
    "        print('no video')\n",
    "        cap.set(cv2.CAP_PROP_POS_FRAMES, 0)\n",
    "        continue\n",
    "    if cv2.waitKey(10) &0xFF == ord('q'):\n",
    "        break\n",
    "    \n",
    "cap.release()\n",
    "cv2.destroyAllWindows()\n",
    "cv2.waitKey(1)"
   ]
  }
 ],
 "metadata": {
  "kernelspec": {
   "display_name": "Python 3 (ipykernel)",
   "language": "python",
   "name": "python3"
  },
  "language_info": {
   "codemirror_mode": {
    "name": "ipython",
    "version": 3
   },
   "file_extension": ".py",
   "mimetype": "text/x-python",
   "name": "python",
   "nbconvert_exporter": "python",
   "pygments_lexer": "ipython3",
   "version": "3.9.2"
  },
  "toc": {
   "base_numbering": 1,
   "nav_menu": {},
   "number_sections": true,
   "sideBar": true,
   "skip_h1_title": false,
   "title_cell": "Table of Contents",
   "title_sidebar": "Contents",
   "toc_cell": false,
   "toc_position": {},
   "toc_section_display": true,
   "toc_window_display": false
  },
  "varInspector": {
   "cols": {
    "lenName": 16,
    "lenType": 16,
    "lenVar": 40
   },
   "kernels_config": {
    "python": {
     "delete_cmd_postfix": "",
     "delete_cmd_prefix": "del ",
     "library": "var_list.py",
     "varRefreshCmd": "print(var_dic_list())"
    },
    "r": {
     "delete_cmd_postfix": ") ",
     "delete_cmd_prefix": "rm(",
     "library": "var_list.r",
     "varRefreshCmd": "cat(var_dic_list()) "
    }
   },
   "types_to_exclude": [
    "module",
    "function",
    "builtin_function_or_method",
    "instance",
    "_Feature"
   ],
   "window_display": false
  }
 },
 "nbformat": 4,
 "nbformat_minor": 5
}

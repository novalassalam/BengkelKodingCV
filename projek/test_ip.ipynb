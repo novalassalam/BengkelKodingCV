{
 "cells": [
  {
   "cell_type": "code",
   "execution_count": null,
   "id": "83b7f52a",
   "metadata": {
    "ExecuteTime": {
     "start_time": "2023-06-09T08:49:32.967Z"
    }
   },
   "outputs": [],
   "source": [
    "import cv2\n",
    "import os\n",
    "import os.path\n",
    "import numpy as np\n",
    "from time import sleep\n",
    "import pickle\n",
    "\n",
    "def read_model(filename, path=\"\"):\n",
    "    with open(os.path.join(path, filename), 'rb') as in_name:\n",
    "        model = pickle.load(in_name)\n",
    "        return model\n",
    "\n",
    "color = (255, 0, 0)\n",
    "cap = cv2.VideoCapture('single.mp4')\n",
    "model = read_model(\"model_mobil.pkl\", path=\"\") #load model\n",
    "\n",
    "\n",
    "\n",
    "while (cap.isOpened()):\n",
    "    ret , frame1 = cap.read()\n",
    "    if ret:\n",
    "        convert = cv2.cvtColor(frame1, cv2.COLOR_BGR2HSV) #konversi bgr to hsv\n",
    "        muka = cv2.GaussianBlur(convert,(5,5),0)\n",
    "        muka = cv2.resize(muka, (200,200), interpolation = cv2.INTER_AREA)#wajib sama dengan citra inputan trainer\n",
    "        cv2.imshow(\"Detect\",muka)\n",
    "        l=[muka.flatten()/255]\n",
    "        id_= int(model.predict(l)[0]) #prediksi\n",
    "        if(id_ == 1):\n",
    "            has='mobil'\n",
    "        else:\n",
    "            has='bukan'\n",
    "        cv2.putText(frame1, \"Deteksi : \"+has, (20, 30), cv2.FONT_HERSHEY_SIMPLEX, 1, (0, 0, 255),2)\n",
    "        cv2.imshow(\"Video Original\" , frame1)\n",
    "    else:\n",
    "        print('no video')\n",
    "        cap.set(cv2.CAP_PROP_POS_FRAMES, 0)\n",
    "        continue\n",
    "\n",
    "    if cv2.waitKey(1) & 0xFF == ord('q'):\n",
    "        break\n",
    "    \n",
    "cap.release()\n",
    "cv2.destroyAllWindows()\n",
    "cv2.waitKey(1)"
   ]
  },
  {
   "cell_type": "code",
   "execution_count": null,
   "id": "68fa5c07",
   "metadata": {},
   "outputs": [],
   "source": []
  }
 ],
 "metadata": {
  "kernelspec": {
   "display_name": "Python 3 (ipykernel)",
   "language": "python",
   "name": "python3"
  },
  "language_info": {
   "codemirror_mode": {
    "name": "ipython",
    "version": 3
   },
   "file_extension": ".py",
   "mimetype": "text/x-python",
   "name": "python",
   "nbconvert_exporter": "python",
   "pygments_lexer": "ipython3",
   "version": "3.9.2"
  },
  "toc": {
   "base_numbering": 1,
   "nav_menu": {},
   "number_sections": true,
   "sideBar": true,
   "skip_h1_title": false,
   "title_cell": "Table of Contents",
   "title_sidebar": "Contents",
   "toc_cell": false,
   "toc_position": {},
   "toc_section_display": true,
   "toc_window_display": false
  },
  "varInspector": {
   "cols": {
    "lenName": 16,
    "lenType": 16,
    "lenVar": 40
   },
   "kernels_config": {
    "python": {
     "delete_cmd_postfix": "",
     "delete_cmd_prefix": "del ",
     "library": "var_list.py",
     "varRefreshCmd": "print(var_dic_list())"
    },
    "r": {
     "delete_cmd_postfix": ") ",
     "delete_cmd_prefix": "rm(",
     "library": "var_list.r",
     "varRefreshCmd": "cat(var_dic_list()) "
    }
   },
   "types_to_exclude": [
    "module",
    "function",
    "builtin_function_or_method",
    "instance",
    "_Feature"
   ],
   "window_display": false
  }
 },
 "nbformat": 4,
 "nbformat_minor": 5
}
